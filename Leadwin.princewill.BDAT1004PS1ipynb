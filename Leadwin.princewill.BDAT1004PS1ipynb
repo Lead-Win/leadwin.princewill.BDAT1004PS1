{
 "cells": [
  {
   "cell_type": "markdown",
   "id": "9c01e35f-30d5-4376-809d-ba289bd0a758",
   "metadata": {},
   "source": [
    "# QUESTION 1\n",
    "What data type is each of the following (evaluate where necessary)?\n",
    "value: 5 | Type: int\n",
    "value: 5.0 | Type: float\n",
    "value: 5>1 | Type : Boolean\n",
    "value: '5' | Type : string\n",
    "value: 5*2 | Type : int \n",
    "value: '5' * 2 | Type : string\n",
    "value: '5' + '2' | Type : string\n",
    "value:  5/2 | Type : float\n",
    "value:  5%2 | Type : int\n",
    "value: {5, 2, 1} | Type : set\n",
    "value: 5==3 | Type : boolean\n",
    "value: 3.14159 | Type : Float"
   ]
  },
  {
   "cell_type": "code",
   "execution_count": 7,
   "id": "4964fb71-0693-4ff9-947d-92549647026e",
   "metadata": {},
   "outputs": [
    {
     "name": "stdout",
     "output_type": "stream",
     "text": [
      "True\n",
      "10\n",
      "5\n",
      "55\n",
      "52\n",
      "2.5\n",
      "1\n",
      "{1, 2, 5}\n"
     ]
    }
   ],
   "source": [
    "print (5>1)\n",
    "print (5*2)\n",
    "print ('5') \n",
    "print ('5'* 2)\n",
    "print ('5'+'2')\n",
    "print (5/2)\n",
    "print (5%2)\n",
    "print ({5 ,2, 1})\n",
    "print (5==3)\n",
    "#print (pi)\n"
   ]
  },
  {
   "cell_type": "markdown",
   "id": "07dd08c3-9128-47e4-a03a-ec2a82c90f64",
   "metadata": {},
   "source": [
    "# QUESTION 2\n",
    "Write (and evaluate) python expressions that answer these questions:\r\n",
    "a. How many letters are there in 'Supercalifragilisticexpialidocious'\n",
    "\n",
    "     there are 34 leters\n",
    "     \n",
    "b. Does 'Supercalifragilisticexpialidocious' contain 'ice' as a substring?\n",
    "\n",
    "     yes it does\n",
    "     \n",
    "c. Which of the following words is the longest: (\n",
    "Supercalifragilisticexpialidocious, Honorificabilitudinitatibus, or\r\n",
    "Bababadalgharaghtakamminarronnko)n\n",
    "\n",
    "    the first and the last (Supercalifragilisticexpialidocious, Bababadalgharaghtakamminarronnkonn)\n",
    "    nd. Which composer comes first in the dictionary: 'Berlioz', 'Borodin', 'Brian',\r\n",
    "'Bartok', 'Bellini', 'Buxtehude', 'Bernstein'. Which one comes last\n",
    "\n",
    "      the word to come first is \"Bartox\" and last is \"Buxtehude\"?\r",
    "??st?\r",
    " \n"
   ]
  },
  {
   "cell_type": "code",
   "execution_count": 47,
   "id": "40b8a900-9f12-4411-b7b5-b03020815454",
   "metadata": {},
   "outputs": [
    {
     "name": "stdout",
     "output_type": "stream",
     "text": [
      "34\n",
      "true\n",
      "34\n",
      "27\n",
      "34\n",
      "Supercalifragilisticexpialidocious\n",
      "Bartok Buxtehude\n"
     ]
    }
   ],
   "source": [
    "# 2A\n",
    "print (len(\"Supercalifragilisticexpialidocious\"))\n",
    "\n",
    "# 2B\n",
    "if \"ice\" in \"Supercalifragilisticexpialidocious\":\n",
    "    print (\"true\")\n",
    "#2C \n",
    "words= [\"Supercalifragilisticexpialidocious\", \"Honorificabilitudinitatibus\" , \"Bababadalgharaghtakamminarronnkonn\"]\n",
    "for string in words:\n",
    "    print (len(string))\n",
    "print (max(words))\n",
    "# 2D\n",
    "composers = ['Berlioz', 'Borodin', 'Brian','Bartok', 'Bellini', 'Buxtehude', 'Bernstein']\n",
    "print ((min(composers)),(max(composers)))"
   ]
  },
  {
   "cell_type": "markdown",
   "id": "64e5ed3e-61bc-49c7-9745-25722694856b",
   "metadata": {},
   "source": [
    "# QUESTION 3\n",
    "\n",
    "Implement function triangleArea(a,b,c) that takes as input the lengths of the 3\r\n",
    "sides of a triangle and returns the area of the triangle. By Heron's formula, the area\r\n",
    "of a triangle with side lengths a, b, and c is\r\n",
    "s(s - a)(s -b)(s -c)\r\n",
    ", where\r\n",
    "s = (a+b+c)/2.\r\n",
    ">>> triangleArea(2,2,2)\r\n",
    "1.7320508075688772\r"
   ]
  },
  {
   "cell_type": "code",
   "execution_count": 83,
   "id": "d7e4cbd9-22c1-4e31-a852-8cbd3714ee85",
   "metadata": {},
   "outputs": [
    {
     "name": "stdout",
     "output_type": "stream",
     "text": [
      "1.7320508075688772\n"
     ]
    }
   ],
   "source": [
    "import math\n",
    "\n",
    "def triangleArea(a,b,c):\n",
    "\n",
    "    s = (a + b + c)/2\n",
    "\n",
    "    area = math.sqrt(s*(s-a)*(s-b)*(s-c))\n",
    "\n",
    "    return area\n",
    "\n",
    "Area_triangle = triangleArea(2, 2, 2)\n",
    "print(Area_triangle)\n",
    "\n"
   ]
  },
  {
   "cell_type": "markdown",
   "id": "0cb4d1ee-323d-4dac-8119-9868b12bd15f",
   "metadata": {},
   "source": [
    "# QUESTION 4\n",
    "\n",
    "Write a program in python to separate odd and even integers in separate arrays. Go\r\n",
    "to the editor\r\n",
    "Test Data :\r\n",
    "Input the number of elements to be stored in the array :5\r\n",
    "Input 5 elements in the array :\r\n",
    "element - 0 : 25\r\n",
    "element - 1 : 47\r\n",
    "element - 2 : 42\r\n",
    "element - 3 : 56\r\n",
    "element -The Even elements are:\r\n",
    "42 56 32\r\n",
    "The Odd elements are :\r\n",
    "25 47 4 : 32\r\n"
   ]
  },
  {
   "cell_type": "code",
   "execution_count": 97,
   "id": "bf25a594-9d18-4ac9-aee9-44a4de437862",
   "metadata": {},
   "outputs": [
    {
     "name": "stdin",
     "output_type": "stream",
     "text": [
      "input the number of elements to be stored in the array 5\n"
     ]
    },
    {
     "name": "stdout",
     "output_type": "stream",
     "text": [
      "input 5 elements in the array\n"
     ]
    },
    {
     "name": "stdin",
     "output_type": "stream",
     "text": [
      "element - 0 : 25\n",
      "element - 1 : 47\n",
      "element - 2 : 42\n",
      "element - 3 : 56\n",
      "element - 4 : 32\n"
     ]
    },
    {
     "name": "stdout",
     "output_type": "stream",
     "text": [
      "The Even elements are: [42, 56, 32]\n",
      "The Odd elements are: [25, 47]\n"
     ]
    }
   ],
   "source": [
    "n = int(input(\"input the number of elements to be stored in the array\"))\n",
    "\n",
    "arr = []\n",
    "oddnumbers=[]\n",
    "evennumbers=[]\n",
    "\n",
    "print (\"input\", n , \"elements in the array\")\n",
    "for i in range(n):\n",
    "    element=int(input(f\"element - {i} :\"))\n",
    "    arr.append(element)\n",
    "\n",
    "    if element %2 == 0: \n",
    "        evennumbers.append(element)\n",
    "    else:\n",
    "        oddnumbers.append(element)\n",
    "\n",
    "print (\"The Even elements are:\", evennumbers)\n",
    "print (\"The Odd elements are:\", oddnumbers)\n",
    "\n",
    "#if n%2 == 0:\n",
    "    \n"
   ]
  },
  {
   "cell_type": "markdown",
   "id": "617c8ff7-8a4f-4a17-acbe-b1ecc9e2e569",
   "metadata": {},
   "source": [
    "# QYESTION 5\n",
    "Write a function inside(x,y,x1,y1,x2,y2) that returns True or False\r\n",
    "depending on whether the point (x,y) lies in the rectangle with lower left\r\n",
    "corner (x1,y1) and upper right corner (x2,y2).\r\n",
    ">>> inside(1,1,0,0,2,3)\r\n",
    "True\r\n",
    ">>> inside(-1,-1,0,0,2,3)\r\n",
    ">>>\n",
    ">>> \n",
    "False\r\n",
    "b. Use function inside() from part a. to write an expression that tests whether\r\n",
    "the point (1,1) lies in both of the following rectangles: one with lower left\r\n",
    "corner (0.3, 0.5) and upper right corner (1.1, 0.7) and the other with lower\r\n",
    "left corner (0.5, 0.2) and upper right corner (1.1, 2)"
   ]
  },
  {
   "cell_type": "code",
   "execution_count": 101,
   "id": "dc2c6fac-255d-4c61-bf82-32cb6e22ed06",
   "metadata": {},
   "outputs": [
    {
     "name": "stdout",
     "output_type": "stream",
     "text": [
      "True\n",
      "False\n"
     ]
    }
   ],
   "source": [
    "# a\n",
    "def inside(x,y,x1,y1,x2,y2):\n",
    "     return x1 <= x<= x2 and y1 <= y <= y2\n",
    "print (inside(1,1,0,0,2,3))\n",
    "print (inside(-1,-1,0,0,2,3))"
   ]
  },
  {
   "cell_type": "code",
   "execution_count": 103,
   "id": "cd72b1cb-57b5-44a2-92f3-4bb56f100a09",
   "metadata": {},
   "outputs": [
    {
     "name": "stdout",
     "output_type": "stream",
     "text": [
      "False\n"
     ]
    }
   ],
   "source": [
    "# b\n",
    "def inside(x,y,x1,y1,x2,y2):\n",
    "     return x1 <= x<= x2 and y1 <= y <= y2\n",
    "\n",
    "result = inside ( 1, 1, 0.3, 0.5, 1.1, 0.7 ) and inside ( 1, 1, 0.5, 0.2, 1.1, 2 )\n",
    "\n",
    "print (result)\n"
   ]
  },
  {
   "cell_type": "markdown",
   "id": "0e5122b6-f63e-49c8-9e4a-d6bdcdcdfadb",
   "metadata": {},
   "source": [
    "# QUESTION 6\n",
    "You can turn a word into pig-Latin using the following two rules (simplified):\r\n",
    "• If the word starts with a consonant, move that letter to the end and append\r\n",
    "'ay'. For example, 'happy' becomes 'appyhay' and 'pencil' becomes 'encilpay'.\r\n",
    "• If the word starts with a vowel, simply append 'way' to the end of the word.\r\n",
    "For example, 'enter' becomes 'enterway' and 'other' becomes 'otherway' . For\r\n",
    "our purposes, there are 5 vowels: a, e, i, o, u (so we count y as a consonant).\r\n",
    "Write a function pig() that takes a word (i.e., a string) as input and returns its pigLatin form. Your function should still work if the input word contains upper case\r\n",
    "characters. Your output should always be lower case h\n",
    "owever."
   ]
  },
  {
   "cell_type": "code",
   "execution_count": 105,
   "id": "82c114fb-6973-4adf-a481-1e49c9b7071b",
   "metadata": {},
   "outputs": [
    {
     "name": "stdout",
     "output_type": "stream",
     "text": [
      "appyhay\n",
      "enterway\n"
     ]
    }
   ],
   "source": [
    "def pig(word):\n",
    "    word = word.lower()\n",
    "    vowels = 'aeiou'\n",
    "    if word[0] in vowels:\n",
    "        return word + 'way'\n",
    "    else:\n",
    "        return word[1:] + word[0] + 'ay'\n",
    "\n",
    "print(pig('happy'))   \n",
    "print(pig('enter'))  \n"
   ]
  },
  {
   "cell_type": "markdown",
   "id": "decb7251-ad22-4ea2-8aba-517fa38417aa",
   "metadata": {},
   "source": [
    "# QUESTION 7\n",
    "I could not find the bloodtype1.txt file\n",
    "\n"
   ]
  },
  {
   "cell_type": "markdown",
   "id": "9b33bf95-5192-4911-bc6b-0d85026f60be",
   "metadata": {},
   "source": [
    "# QUESTION 8\n",
    "Write a function curconv() that takes as input:\r\n",
    "1. a currency represented using a string (e.g., 'JPY' for the Japanese Yen or\r\n",
    "'EUR' for the Euro)\r\n",
    "2. an amount\r\n",
    "and then converts and returns the amount in US dollars.\r"
   ]
  },
  {
   "cell_type": "code",
   "execution_count": 109,
   "id": "c6779c70-4729-4ee0-94e2-c2cbe6acf6cd",
   "metadata": {},
   "outputs": [
    {
     "name": "stdout",
     "output_type": "stream",
     "text": [
      "122.99\n",
      "9.1\n"
     ]
    }
   ],
   "source": [
    "def curconv(currency, amount):\n",
    "    conversion_rates = {\n",
    "\n",
    "        'EUR': 1.2299, \n",
    "        'JPY': 0.0091, \n",
    "        \n",
    "                           }\n",
    "    \n",
    "    currency = currency.upper()\n",
    "    if currency in conversion_rates:\n",
    "        return amount * conversion_rates[currency]\n",
    "    else:\n",
    "        return \"Currency not supported\"\n",
    "print(curconv('EUR', 100))  \n",
    "print(curconv('JPY', 1000))\n",
    "        "
   ]
  },
  {
   "cell_type": "markdown",
   "id": "25c7e698-32f3-4e33-a388-c826b7fdb41a",
   "metadata": {},
   "source": [
    "# QUESTION 9\n",
    "Question 9\r\n",
    "Each of the following will cause an exception (an error). Identify what type of\r\n",
    "exception each will caus\n",
    "e.\r\n",
    "Trying to add incompatible variables, as in\r\n",
    "adding 6 +\n",
    "\n",
    "TYPE ERROR\n",
    " ‘a’\r\n",
    "Referring to the 12th item of a list that has only 10\r\n",
    "\n",
    "INDEXERROR\n",
    "\n",
    "\n",
    "items\r\n",
    "Using a value that is out of range for a function’s\r\n",
    "input, such as calling math.sq\n",
    "\n",
    "VALUEERROR\n",
    "\n",
    "rt(-1.0)\r\n",
    "Using an undeclared variable, such as print(x)\r\n",
    "when x has not be\n",
    "\n",
    "NAMEERROR\n",
    "\n",
    "en defined\r\n",
    "Trying to open a file that does not exist, such as\r\n",
    "mistyping the file name or looking in the wrong\n",
    "\n",
    "FILENOTFOUNDERROR\r\n",
    "directory. "
   ]
  },
  {
   "cell_type": "markdown",
   "id": "356e9c8f-b085-4d0a-927b-be52a81b29f6",
   "metadata": {},
   "source": [
    "# QUESTION 10\n",
    "\n",
    "Encryption is the process of hiding the meaning of a text by substituting letters in the\n",
    "message with other letters, according to some system. If the process is successful, no\n",
    "one but the intended recipient can understand the encrypted message. Cryptanalysis\n",
    "refers to attempts to undo the encryption, even if some details of the encryption are\n",
    "unknown (for example, if an encrypted message has been intercepted). The first step\n",
    "of cryptanalysis is often to build up a table of letter frequencies in the encrypted text.\n",
    "Assume that the string letters is already defined as\n",
    "'abcdefghijklmnopqrstuvwxyz'. Write a function called frequencies()\n",
    "that takes a string as its only parameter, and returns a list of integers, showing the\n",
    "number of times each character appears in the text. Your function may ignore any\n",
    "characters that are not in letters."
   ]
  },
  {
   "cell_type": "code",
   "execution_count": 111,
   "id": "02466fbb-10be-4dc4-a167-fe83cd1d7637",
   "metadata": {},
   "outputs": [
    {
     "name": "stdout",
     "output_type": "stream",
     "text": [
      "[0, 0, 0, 1, 1, 0, 0, 1, 0, 0, 0, 3, 0, 0, 2, 0, 0, 1, 0, 0, 0, 0, 1, 0, 0, 0]\n",
      "[1, 0, 1, 0, 0, 0, 1, 1, 0, 0, 0, 0, 0, 0, 1, 2, 0, 2, 0, 1, 0, 0, 0, 0, 2, 0]\n"
     ]
    }
   ],
   "source": [
    "def frequencies(text):\n",
    "    letters = 'abcdefghijklmnopqrstuvwxyz'\n",
    "    freq_list = [0] * 26\n",
    "    text = text.lower()\n",
    "\n",
    "    for char in text:\n",
    "        if char in letters:\n",
    "            index = letters.index(char)  \n",
    "            freq_list[index] += 1       \n",
    "    return freq_list\n",
    "\n",
    "\n",
    "print(frequencies(\"Hello World!\")) \n",
    "print(frequencies(\"Cryptography\"))   "
   ]
  },
  {
   "cell_type": "code",
   "execution_count": null,
   "id": "a3697446-bc0c-429e-9b49-c374ad3af984",
   "metadata": {},
   "outputs": [],
   "source": []
  }
 ],
 "metadata": {
  "kernelspec": {
   "display_name": "Python 3 (ipykernel)",
   "language": "python",
   "name": "python3"
  },
  "language_info": {
   "codemirror_mode": {
    "name": "ipython",
    "version": 3
   },
   "file_extension": ".py",
   "mimetype": "text/x-python",
   "name": "python",
   "nbconvert_exporter": "python",
   "pygments_lexer": "ipython3",
   "version": "3.12.4"
  }
 },
 "nbformat": 4,
 "nbformat_minor": 5
}
